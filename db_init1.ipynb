{
 "cells": [
  {
   "cell_type": "code",
   "execution_count": 1,
   "metadata": {},
   "outputs": [],
   "source": [
    "import MySQLdb"
   ]
  },
  {
   "cell_type": "markdown",
   "metadata": {},
   "source": [
    "Импортируем данные для подключения к БД:"
   ]
  },
  {
   "cell_type": "code",
   "execution_count": 2,
   "metadata": {},
   "outputs": [],
   "source": [
    "from authentification1 import *"
   ]
  },
  {
   "cell_type": "code",
   "execution_count": 5,
   "metadata": {},
   "outputs": [],
   "source": [
    "database = MySQLdb.connect(user=user, password=password, db = db, use_unicode=True)"
   ]
  },
  {
   "cell_type": "code",
   "execution_count": 6,
   "metadata": {},
   "outputs": [],
   "source": [
    "database.encoding = 'utf8'"
   ]
  },
  {
   "cell_type": "code",
   "execution_count": 7,
   "metadata": {},
   "outputs": [],
   "source": [
    "cursor = database.cursor()"
   ]
  },
  {
   "cell_type": "code",
   "execution_count": 8,
   "metadata": {},
   "outputs": [
    {
     "data": {
      "text/plain": [
       "()"
      ]
     },
     "execution_count": 8,
     "metadata": {},
     "output_type": "execute_result"
    }
   ],
   "source": [
    "cursor.execute('DROP TABLE students, mark, test_question, question;')\n",
    "cursor.fetchall()"
   ]
  },
  {
   "cell_type": "markdown",
   "metadata": {},
   "source": [
    "Создадим нужные нам таблицы:"
   ]
  },
  {
   "cell_type": "code",
   "execution_count": 9,
   "metadata": {},
   "outputs": [
    {
     "name": "stderr",
     "output_type": "stream",
     "text": [
      "c:\\program files\\python36\\lib\\site-packages\\ipykernel_launcher.py:4: Warning: (3719, \"'utf8' is currently an alias for the character set UTF8MB3, but will be an alias for UTF8MB4 in a future release. Please consider using UTF8MB4 in order to be unambiguous.\")\n",
      "  after removing the cwd from sys.path.\n",
      "c:\\program files\\python36\\lib\\site-packages\\ipykernel_launcher.py:4: Warning: (3778, \"'utf8_general_ci' is a collation of the deprecated character set UTF8MB3. Please consider using UTF8MB4 with an appropriate collation instead.\")\n",
      "  after removing the cwd from sys.path.\n"
     ]
    },
    {
     "data": {
      "text/plain": [
       "0"
      ]
     },
     "execution_count": 9,
     "metadata": {},
     "output_type": "execute_result"
    }
   ],
   "source": [
    "cursor.execute('''CREATE TABLE students (id INT NOT NULL AUTO_INCREMENT, name VARCHAR(30) CHARACTER SET utf8 COLLATE utf8_general_ci,\n",
    "familyname VARCHAR(30) CHARACTER SET utf8 COLLATE utf8_general_ci, patername VARCHAR(30) CHARACTER SET utf8\n",
    "COLLATE utf8_general_ci, AcGroup VARCHAR(10) CHARACTER SET utf8 COLLATE utf8_general_ci, PRIMARY KEY(id))\n",
    ";''')"
   ]
  },
  {
   "cell_type": "code",
   "execution_count": 10,
   "metadata": {},
   "outputs": [
    {
     "data": {
      "text/plain": [
       "0"
      ]
     },
     "execution_count": 10,
     "metadata": {},
     "output_type": "execute_result"
    }
   ],
   "source": [
    "cursor.execute('''CREATE TABLE mark (id INT NOT NULL AUTO_INCREMENT, test_id INT, student_id INT, mark int,\n",
    "CHECK (mark>=0 AND mark<=10), PRIMARY KEY(id));''')"
   ]
  },
  {
   "cell_type": "code",
   "execution_count": 11,
   "metadata": {},
   "outputs": [
    {
     "data": {
      "text/plain": [
       "0"
      ]
     },
     "execution_count": 11,
     "metadata": {},
     "output_type": "execute_result"
    }
   ],
   "source": [
    "cursor.execute('''CREATE TABLE test_question (id INT NOT NULL AUTO_INCREMENT, test_id INT, question_id INT, PRIMARY KEY(id));''')"
   ]
  },
  {
   "cell_type": "code",
   "execution_count": 12,
   "metadata": {},
   "outputs": [
    {
     "name": "stderr",
     "output_type": "stream",
     "text": [
      "c:\\program files\\python36\\lib\\site-packages\\ipykernel_launcher.py:2: Warning: (3719, \"'utf8' is currently an alias for the character set UTF8MB3, but will be an alias for UTF8MB4 in a future release. Please consider using UTF8MB4 in order to be unambiguous.\")\n",
      "  \n",
      "c:\\program files\\python36\\lib\\site-packages\\ipykernel_launcher.py:2: Warning: (3778, \"'utf8_general_ci' is a collation of the deprecated character set UTF8MB3. Please consider using UTF8MB4 with an appropriate collation instead.\")\n",
      "  \n"
     ]
    },
    {
     "data": {
      "text/plain": [
       "0"
      ]
     },
     "execution_count": 12,
     "metadata": {},
     "output_type": "execute_result"
    }
   ],
   "source": [
    "cursor.execute('''CREATE TABLE question (id int NOT NULL AUTO_INCREMENT,\n",
    "question_text VARCHAR(800) CHARACTER SET utf8 COLLATE utf8_general_ci, PRIMARY KEY(id));''')"
   ]
  },
  {
   "cell_type": "code",
   "execution_count": 16,
   "metadata": {},
   "outputs": [
    {
     "name": "stderr",
     "output_type": "stream",
     "text": [
      "c:\\program files\\python36\\lib\\site-packages\\ipykernel_launcher.py:3: Warning: (3719, \"'utf8' is currently an alias for the character set UTF8MB3, but will be an alias for UTF8MB4 in a future release. Please consider using UTF8MB4 in order to be unambiguous.\")\n",
      "  This is separate from the ipykernel package so we can avoid doing imports until\n",
      "c:\\program files\\python36\\lib\\site-packages\\ipykernel_launcher.py:3: Warning: (3778, \"'utf8_general_ci' is a collation of the deprecated character set UTF8MB3. Please consider using UTF8MB4 with an appropriate collation instead.\")\n",
      "  This is separate from the ipykernel package so we can avoid doing imports until\n"
     ]
    },
    {
     "data": {
      "text/plain": [
       "0"
      ]
     },
     "execution_count": 16,
     "metadata": {},
     "output_type": "execute_result"
    }
   ],
   "source": [
    "cursor.execute('''CREATE TABLE test (id int NOT NULL AUTO_INCREMENT,\n",
    "title VARCHAR(150) CHARACTER SET utf8 COLLATE utf8_general_ci,\n",
    "passdate date, PRIMARY KEY(id));''')"
   ]
  },
  {
   "cell_type": "code",
   "execution_count": 17,
   "metadata": {},
   "outputs": [
    {
     "data": {
      "text/plain": [
       "(('mark',), ('question',), ('students',), ('test',), ('test_question',))"
      ]
     },
     "execution_count": 17,
     "metadata": {},
     "output_type": "execute_result"
    }
   ],
   "source": [
    "cursor.execute('SHOW TABLES;')\n",
    "cursor.fetchall()"
   ]
  },
  {
   "cell_type": "code",
   "execution_count": 18,
   "metadata": {},
   "outputs": [
    {
     "data": {
      "text/plain": [
       "(('id', 'int(11)', 'NO', 'PRI', None, 'auto_increment'),\n",
       " ('name', 'varchar(30)', 'YES', '', None, ''),\n",
       " ('familyname', 'varchar(30)', 'YES', '', None, ''),\n",
       " ('patername', 'varchar(30)', 'YES', '', None, ''),\n",
       " ('AcGroup', 'varchar(10)', 'YES', '', None, ''))"
      ]
     },
     "execution_count": 18,
     "metadata": {},
     "output_type": "execute_result"
    }
   ],
   "source": [
    "cursor.execute('desc students;')\n",
    "cursor.fetchall()"
   ]
  },
  {
   "cell_type": "code",
   "execution_count": 19,
   "metadata": {},
   "outputs": [
    {
     "data": {
      "text/plain": [
       "1"
      ]
     },
     "execution_count": 19,
     "metadata": {},
     "output_type": "execute_result"
    }
   ],
   "source": [
    "cursor.execute('''INSERT INTO question(question_text) VALUES ('В N-ском зоопарке средний рост суриката 45.3 см, стандартное отклонение - 7.4.\n",
    "Найдите доверительный интервал для роста суриката в генеральной совокупности при уровне значимости 0.05');''')"
   ]
  },
  {
   "cell_type": "code",
   "execution_count": 20,
   "metadata": {},
   "outputs": [
    {
     "data": {
      "text/plain": [
       "((1,\n",
       "  'В N-ском зоопарке средний рост суриката 45.3 см, стандартное отклонение - 7.4.\\nНайдите доверительный интервал для роста суриката в генеральной совокупности при уровне значимости 0.05'),)"
      ]
     },
     "execution_count": 20,
     "metadata": {},
     "output_type": "execute_result"
    }
   ],
   "source": [
    "cursor.execute('''SELECT * FROM question;''')\n",
    "cursor.fetchall()"
   ]
  },
  {
   "cell_type": "code",
   "execution_count": 21,
   "metadata": {},
   "outputs": [
    {
     "data": {
      "text/plain": [
       "1"
      ]
     },
     "execution_count": 21,
     "metadata": {},
     "output_type": "execute_result"
    }
   ],
   "source": [
    "cursor.execute('''INSERT INTO question VALUES ('2', 'Докажите, что из любого прямоугольника можно сложить квадрат');''')"
   ]
  },
  {
   "cell_type": "code",
   "execution_count": 22,
   "metadata": {},
   "outputs": [
    {
     "data": {
      "text/plain": [
       "(1,\n",
       " 'В N-ском зоопарке средний рост суриката 45.3 см, стандартное отклонение - 7.4.\\nНайдите доверительный интервал для роста суриката в генеральной совокупности при уровне значимости 0.05')"
      ]
     },
     "execution_count": 22,
     "metadata": {},
     "output_type": "execute_result"
    }
   ],
   "source": [
    "cursor.execute('''SELECT * FROM question WHERE id=1;''')\n",
    "cursor.fetchone()"
   ]
  },
  {
   "cell_type": "code",
   "execution_count": 23,
   "metadata": {},
   "outputs": [],
   "source": [
    "database.commit()"
   ]
  },
  {
   "cell_type": "code",
   "execution_count": 24,
   "metadata": {},
   "outputs": [
    {
     "data": {
      "text/plain": [
       "8"
      ]
     },
     "execution_count": 24,
     "metadata": {},
     "output_type": "execute_result"
    }
   ],
   "source": [
    "cursor.execute('''INSERT INTO students (name, familyname, patername, AcGroup) VALUES\n",
    "('Владимир','Путин','Владимирович','БКЛ161'),\n",
    "('Дмитрий','Медведев','Анатольевич','БКЛ161'),\n",
    "('Анатолий','Чубайс','Борисович','БКЛ161'),\n",
    "('Герман','Греф','Оскарович','БКЛ161'),\n",
    "('Эдуард','Лимонов','Вениаминович','БКЛ162'),\n",
    "('Алексей','Навальный','Анатольевич','БКЛ162'),\n",
    "('Александр','Пушкин','Сергеевич','БКЛ163'),\n",
    "('Лев','Толстой','Николаевич','БКЛ163');''')"
   ]
  },
  {
   "cell_type": "code",
   "execution_count": 25,
   "metadata": {},
   "outputs": [
    {
     "data": {
      "text/plain": [
       "4"
      ]
     },
     "execution_count": 25,
     "metadata": {},
     "output_type": "execute_result"
    }
   ],
   "source": [
    "cursor.execute('''INSERT INTO test (title, passdate) VALUES\n",
    "('Контрольная по статистике','2018-09-10'),\n",
    "('Контрольная по типологии','2018-10-11'),\n",
    "('Контрольная по программированию','2018-10-25'),\n",
    "('Контрольная по алкоголистике','2018-11-7');''')"
   ]
  },
  {
   "cell_type": "code",
   "execution_count": 27,
   "metadata": {},
   "outputs": [
    {
     "data": {
      "text/plain": [
       "2"
      ]
     },
     "execution_count": 27,
     "metadata": {},
     "output_type": "execute_result"
    }
   ],
   "source": [
    "cursor.execute('''INSERT INTO question (question_text) VALUES \n",
    "('Напишите реализацию стека на Brainf**k'),\n",
    "('Петя и Миша играют в игру. Сначала один из них загадывает число, а другой угадывает. Если угаданных чётных\n",
    "чисел больше, чем нечётных, то Миша бьёт Петю по лбу столько раз, сколько чётных было угадано, а если больше угаданных\n",
    "нечётных -  то Миша бьёт Петю. Напищите программу,\n",
    "которая принимает на вход список кортежей, в которых записано числа и были они правильно угаданы и определяет\n",
    "кто кого бьёт по лбу и сколько раз.');''')"
   ]
  },
  {
   "cell_type": "code",
   "execution_count": 28,
   "metadata": {},
   "outputs": [
    {
     "data": {
      "text/plain": [
       "2"
      ]
     },
     "execution_count": 28,
     "metadata": {},
     "output_type": "execute_result"
    }
   ],
   "source": [
    "cursor.execute('''INSERT INTO question (question_text) VALUES\n",
    "('Расположите на шкале одушевлённости: личные имена, местоимения 1л., местоимения 2л.,\n",
    "местоимения 3л., неодушевлённые нарицательные имена, неодушевлённые имена собственные,\n",
    "одушевлённые нарицательные имена'),\n",
    "('Приведите по примеру эргативного маркирования из любых двух не-эргативных языков');''')"
   ]
  },
  {
   "cell_type": "code",
   "execution_count": 29,
   "metadata": {},
   "outputs": [
    {
     "data": {
      "text/plain": [
       "6"
      ]
     },
     "execution_count": 29,
     "metadata": {},
     "output_type": "execute_result"
    }
   ],
   "source": [
    "cursor.execute('''INSERT INTO test_question (test_id, question_id) VALUES\n",
    "(1,1),(1,2),(2,3),(2,4),(3,5),(3,6);''')"
   ]
  },
  {
   "cell_type": "markdown",
   "metadata": {},
   "source": [
    "Заполним таблицу с оценками:"
   ]
  },
  {
   "cell_type": "code",
   "execution_count": 30,
   "metadata": {},
   "outputs": [],
   "source": [
    "import random"
   ]
  },
  {
   "cell_type": "code",
   "execution_count": 34,
   "metadata": {},
   "outputs": [],
   "source": [
    "for i in range(1, 9):\n",
    "    for j in range(1, 4):\n",
    "        cursor.execute(f'''INSERT INTO mark (student_id, test_id, mark) VALUES ({i},{j},{random.randint(0,10)});''')"
   ]
  },
  {
   "cell_type": "code",
   "execution_count": 35,
   "metadata": {},
   "outputs": [
    {
     "data": {
      "text/plain": [
       "24"
      ]
     },
     "execution_count": 35,
     "metadata": {},
     "output_type": "execute_result"
    }
   ],
   "source": [
    "cursor.execute('SELECT * FROM mark;')"
   ]
  },
  {
   "cell_type": "code",
   "execution_count": 36,
   "metadata": {},
   "outputs": [
    {
     "data": {
      "text/plain": [
       "((1, 1, 1, 5),\n",
       " (2, 2, 1, 1),\n",
       " (3, 3, 1, 1),\n",
       " (4, 1, 2, 6),\n",
       " (5, 2, 2, 5),\n",
       " (6, 3, 2, 0),\n",
       " (7, 1, 3, 3),\n",
       " (8, 2, 3, 2),\n",
       " (9, 3, 3, 0),\n",
       " (10, 1, 4, 8),\n",
       " (11, 2, 4, 9),\n",
       " (12, 3, 4, 7),\n",
       " (13, 1, 5, 6),\n",
       " (14, 2, 5, 9),\n",
       " (15, 3, 5, 10),\n",
       " (16, 1, 6, 8),\n",
       " (17, 2, 6, 1),\n",
       " (18, 3, 6, 5),\n",
       " (19, 1, 7, 7),\n",
       " (20, 2, 7, 9),\n",
       " (21, 3, 7, 4),\n",
       " (22, 1, 8, 5),\n",
       " (23, 2, 8, 4),\n",
       " (24, 3, 8, 5))"
      ]
     },
     "execution_count": 36,
     "metadata": {},
     "output_type": "execute_result"
    }
   ],
   "source": [
    "cursor.fetchall()"
   ]
  },
  {
   "cell_type": "code",
   "execution_count": 39,
   "metadata": {},
   "outputs": [],
   "source": [
    "database.commit()"
   ]
  },
  {
   "cell_type": "code",
   "execution_count": 40,
   "metadata": {},
   "outputs": [],
   "source": [
    "database.close()"
   ]
  }
 ],
 "metadata": {
  "kernelspec": {
   "display_name": "Python 3",
   "language": "python",
   "name": "python3"
  },
  "language_info": {
   "codemirror_mode": {
    "name": "ipython",
    "version": 3
   },
   "file_extension": ".py",
   "mimetype": "text/x-python",
   "name": "python",
   "nbconvert_exporter": "python",
   "pygments_lexer": "ipython3",
   "version": "3.6.4"
  }
 },
 "nbformat": 4,
 "nbformat_minor": 2
}
